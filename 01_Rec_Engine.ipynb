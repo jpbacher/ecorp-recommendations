{
 "cells": [
  {
   "cell_type": "code",
   "execution_count": null,
   "metadata": {},
   "outputs": [],
   "source": [
    "# this notebook loads and manipulates E-Corp's 2-week dataset that was given to us, uses\n",
    "# collaborative filtering to train an item to item rec engine, generates and saves the\n",
    "# recommendations into Excel\n",
    "\n",
    "__author__ = 'Josh Bacher'\n",
    "__email__ = 'bacherjp@gmail.com'\n",
    "__website__ = 'https://github.com/jpbacher'\n",
    "\n",
    "\n",
    "import numpy as np\n",
    "import pandas as pd\n",
    "\n",
    "\n",
    "class Data:\n",
    "    \n",
    "    def __init__(self, file):\n",
    "        '''initiate the Data class'''\n",
    "        \n",
    "        self.file = self._read_file(file)\n",
    "        \n",
    "    def _read_file(self, file):\n",
    "        \n",
    "        \n",
    "        \n",
    "    "
   ]
  }
 ],
 "metadata": {
  "kernelspec": {
   "display_name": "Python 3",
   "language": "python",
   "name": "python3"
  },
  "language_info": {
   "codemirror_mode": {
    "name": "ipython",
    "version": 3
   },
   "file_extension": ".py",
   "mimetype": "text/x-python",
   "name": "python",
   "nbconvert_exporter": "python",
   "pygments_lexer": "ipython3",
   "version": "3.6.8"
  }
 },
 "nbformat": 4,
 "nbformat_minor": 2
}
