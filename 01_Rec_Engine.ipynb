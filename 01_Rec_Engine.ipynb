{
 "cells": [
  {
   "cell_type": "code",
   "execution_count": 1,
   "metadata": {},
   "outputs": [],
   "source": [
    "# this notebook loads and manipulates E-Corp's 2-week dataset that was given to us, uses\n",
    "# collaborative filtering to train an item-based rec engine, generates and saves the\n",
    "# recommendations into Excel\n",
    "# (use items in each order number(the user) to score similarity of each item)\n",
    "\n",
    "__author__ = 'Josh Bacher'\n",
    "__email__ = 'bacherjp@gmail.com'\n",
    "__website__ = 'https://github.com/jpbacher'\n",
    "\n",
    "\n",
    "import numpy as np\n",
    "import pandas as pd\n",
    "import tqdm\n",
    "\n",
    "\n",
    "class Data:\n",
    "\n",
    "    def __init__(self, file, basket_size):\n",
    "        '''initiate Data class & retrieve orders that are greater than or equal to basket size'''\n",
    "        self.basket_size = basket_size\n",
    "        self.data = self._get_data(file)\n",
    "\n",
    "    def _get_data(self, df, preprocess=True):\n",
    "\n",
    "        df = self._read_data(file)\n",
    "        if preprocess:\n",
    "            df = self._discard_basket_size(df, self.basket_size)\n",
    "            df = self._ohe(df)\n",
    "            df = self._remove_features(df)\n",
    "            df = self._combine_orders(df)\n",
    "        return df\n",
    "\n",
    "    def _read_data(self, file):\n",
    "\n",
    "        return pd.read_csv(file, sep='\\t')\n",
    "\n",
    "    def _discard_basket_size(self, df,  basket_size, order_feat='order_number'):\n",
    "        '''drop orders less than the basket size'''\n",
    "        df = df.groupby(order_feat).filter(lambda x: len(x) >= basket_size)\n",
    "        return df\n",
    "\n",
    "    def _ohe(self, df, feat='l3'):\n",
    "        '''one-hot encodes the lowest level featue & concatenates back to the original dataframe'''\n",
    "        dummy = pd.get_dummies(df[feat])\n",
    "        return pd.concat([df, dummy], axis=1)\n",
    "\n",
    "    def _remove_features(self, df, features=['l1', 'l2', 'l3', 'sku', 'brand']):\n",
    "        '''remove all original features except order_number (the user feature)'''\n",
    "        return df.drop(features, axis=1)\n",
    "\n",
    "    def _combine_orders(self, df, order_feat='order_number'):\n",
    "        '''combine each order into single instance & sum all features except order number'''\n",
    "        return df.groupby(order_feat).sum().reset_index()"
   ]
  },
  {
   "cell_type": "code",
   "execution_count": 2,
   "metadata": {},
   "outputs": [],
   "source": [
    "file = \"/mnt/c/projects/ecorp-recommendations/data/alltransactions.txt\"\n",
    "basket_size = 10\n",
    "\n",
    "data = Data(file, basket_size)"
   ]
  }
 ],
 "metadata": {
  "kernelspec": {
   "display_name": "Python 3",
   "language": "python",
   "name": "python3"
  },
  "language_info": {
   "codemirror_mode": {
    "name": "ipython",
    "version": 3
   },
   "file_extension": ".py",
   "mimetype": "text/x-python",
   "name": "python",
   "nbconvert_exporter": "python",
   "pygments_lexer": "ipython3",
   "version": "3.6.8"
  }
 },
 "nbformat": 4,
 "nbformat_minor": 2
}
