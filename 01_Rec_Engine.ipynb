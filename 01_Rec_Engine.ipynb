{
 "cells": [
  {
   "cell_type": "code",
   "execution_count": 1,
   "metadata": {},
   "outputs": [],
   "source": [
    "# this notebook loads and manipulates E-Corp's 2-week dataset that was given to us, uses\n",
    "# collaborative filtering to train an item-based rec engine, generates and saves the\n",
    "# recommendations into Excel\n",
    "# (use items in each order number(the user) to score similarity of each item)\n",
    "\n",
    "__author__ = 'Josh Bacher'\n",
    "__email__ = 'bacherjp@gmail.com'\n",
    "__website__ = 'https://github.com/jpbacher'\n",
    "\n",
    "\n",
    "import numpy as np\n",
    "import pandas as pd\n",
    "import tqdm\n",
    "\n",
    "\n",
    "class Data:\n",
    "\n",
    "    def __init__(self, file):\n",
    "\n",
    "        self.data = self._get_data(file)\n",
    "\n",
    "    def _get_data(self, df, preprocess=True):\n",
    "\n",
    "        df = self._read_data(file)\n",
    "        if preprocess:\n",
    "            df = self._discard_small_basket_size(df)\n",
    "            df = self._ohe(df)\n",
    "            df = self._remove_features(df)\n",
    "            df = self._combine_orders(df)\n",
    "        return df\n",
    "\n",
    "    def _read_data(self, file):\n",
    "\n",
    "        return pd.read_csv(file, sep='\\t')\n",
    "\n",
    "    def _discard_small_basket_size(self, df, order_feat='order_number', small_basket_size=2):\n",
    "        '''drop orders less than the small basket size'''\n",
    "        df = df[df.groupby(\n",
    "            order_feat)[order_feat].transform(len) >= small_basket_size]\n",
    "        return df\n",
    "\n",
    "    def _ohe(self, df, feat='l3'):\n",
    "        '''one-hot encodes the lowest level featue & concatenates back to the original dataframe'''\n",
    "        dummy = pd.get_dummies(df[feat])\n",
    "        return pd.concat([df, dummy], axis=1)\n",
    "\n",
    "    def _remove_features(self, df, features=['l1', 'l2', 'l3', 'sku', 'brand']):\n",
    "        '''remove all original features except order_number (the user feature)'''\n",
    "        return df.drop(features, axis=1, inplace=True)\n",
    "\n",
    "    def _combine_orders(self, df, order_feat='order_number'):\n",
    "        \n",
    "        data_feats = list(df.columns)\n",
    "        data_feats.remove(order_feat)\n",
    "        return df.groupby(order_feat).sum()[data_feats].reset_index()"
   ]
  },
  {
   "cell_type": "code",
   "execution_count": 2,
   "metadata": {},
   "outputs": [],
   "source": [
    "file = \"/mnt/c/projects/ecorp-recommendations/data/alltransactions.txt\"\n",
    "\n",
    "data = Data(file)"
   ]
  },
  {
   "cell_type": "code",
   "execution_count": null,
   "metadata": {},
   "outputs": [],
   "source": []
  },
  {
   "cell_type": "code",
   "execution_count": null,
   "metadata": {},
   "outputs": [],
   "source": []
  },
  {
   "cell_type": "code",
   "execution_count": null,
   "metadata": {},
   "outputs": [],
   "source": []
  },
  {
   "cell_type": "code",
   "execution_count": 4,
   "metadata": {},
   "outputs": [
    {
     "data": {
      "text/plain": [
       "(1663534, 5856)"
      ]
     },
     "execution_count": 4,
     "metadata": {},
     "output_type": "execute_result"
    }
   ],
   "source": [
    "data.data.shape # after ohe"
   ]
  },
  {
   "cell_type": "code",
   "execution_count": null,
   "metadata": {},
   "outputs": [],
   "source": []
  },
  {
   "cell_type": "code",
   "execution_count": 3,
   "metadata": {},
   "outputs": [
    {
     "data": {
      "text/plain": [
       "(1663534, 6)"
      ]
     },
     "execution_count": 3,
     "metadata": {},
     "output_type": "execute_result"
    }
   ],
   "source": [
    "data.data.shape # after small basket"
   ]
  },
  {
   "cell_type": "code",
   "execution_count": 3,
   "metadata": {},
   "outputs": [
    {
     "data": {
      "text/plain": [
       "(2107537, 6)"
      ]
     },
     "execution_count": 3,
     "metadata": {},
     "output_type": "execute_result"
    }
   ],
   "source": [
    "data.data.shape # before small basket"
   ]
  },
  {
   "cell_type": "code",
   "execution_count": null,
   "metadata": {},
   "outputs": [],
   "source": []
  },
  {
   "cell_type": "code",
   "execution_count": null,
   "metadata": {},
   "outputs": [],
   "source": []
  }
 ],
 "metadata": {
  "kernelspec": {
   "display_name": "Python 3",
   "language": "python",
   "name": "python3"
  },
  "language_info": {
   "codemirror_mode": {
    "name": "ipython",
    "version": 3
   },
   "file_extension": ".py",
   "mimetype": "text/x-python",
   "name": "python",
   "nbconvert_exporter": "python",
   "pygments_lexer": "ipython3",
   "version": "3.6.8"
  }
 },
 "nbformat": 4,
 "nbformat_minor": 2
}
