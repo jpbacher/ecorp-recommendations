{
 "cells": [
  {
   "cell_type": "code",
   "execution_count": null,
   "metadata": {},
   "outputs": [],
   "source": [
    "# this notebook loads and manipulates E-Corp's 2-week dataset that was given to us, uses\n",
    "# collaborative filtering to train an item-based rec engine, generates and saves the\n",
    "# recommendations into Excel\n",
    "\n",
    "__author__ = 'Josh Bacher'\n",
    "__email__ = 'bacherjp@gmail.com'\n",
    "__website__ = 'https://github.com/jpbacher'\n",
    "\n",
    "\n",
    "import numpy as np\n",
    "import pandas as pd\n",
    "\n",
    "\n",
    "class Data:\n",
    "\n",
    "    def __init__(self, file):\n",
    "\n",
    "        self.data = self._get_data(file)\n",
    "\n",
    "    def _get_data(self, file, process=True):\n",
    "\n",
    "        data = self._read_data(file)\n",
    "        if process:\n",
    "            data = self._discard_small_basket_size(data, small_basket_size)\n",
    "            data = self._ohe(data, features)\n",
    "            data = self._remove_features(data, features)\n",
    "            data = self._combine_orders(data, order_feat)\n",
    "\n",
    "    def _read_data(self, file):\n",
    "\n",
    "        return pd.read_csv(file, sep='\\t')\n",
    "\n",
    "    def _discard_small_basket_size(self, df, order_feat='order_number', small_basket_size=2):\n",
    "        '''drop orders less than the small basket size'''\n",
    "        df = df.loc[df.groupby(\n",
    "            order_feat).count() >= small_basket_size]\n",
    "        return df\n",
    "\n",
    "    def _ohe(self, df, features=['l3']):\n",
    "        '''one-hot encodes specified features in the data & concatenates back to the data'''\n",
    "        dummies_df = []\n",
    "        for feat in features:\n",
    "            dummies_df.append(pd.get_dummies(df[feat]))\n",
    "\n",
    "        return pd.concat([df, dummies_df], axis=1)\n",
    "\n",
    "    def _remove_features(self, df, features=['l1', 'l2', 'l3', 'sku', 'brand']):\n",
    "        \n",
    "        return df.drop(features, axis=1, inplace=True)\n",
    "\n",
    "    def _combine_orders(self, df, order_feat='order_number'):\n",
    "        \n",
    "        data_feats = list(df.columns)\n",
    "        data_feats.remove(order_feat)\n",
    "        return df.groupby(order_feat).sum()[data_feats].reset_index()\n",
    "        "
   ]
  }
 ],
 "metadata": {
  "kernelspec": {
   "display_name": "Python 3",
   "language": "python",
   "name": "python3"
  },
  "language_info": {
   "codemirror_mode": {
    "name": "ipython",
    "version": 3
   },
   "file_extension": ".py",
   "mimetype": "text/x-python",
   "name": "python",
   "nbconvert_exporter": "python",
   "pygments_lexer": "ipython3",
   "version": "3.6.8"
  }
 },
 "nbformat": 4,
 "nbformat_minor": 2
}
