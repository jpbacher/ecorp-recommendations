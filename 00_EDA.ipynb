{
 "cells": [
  {
   "cell_type": "code",
   "execution_count": 1,
   "metadata": {},
   "outputs": [],
   "source": [
    "import pandas as pd\n",
    "\n",
    "%cd -q /mnt/c/projects/ecorp-recommendations/src\n",
    "from helpers import read_dataset  "
   ]
  },
  {
   "cell_type": "code",
   "execution_count": 2,
   "metadata": {},
   "outputs": [
    {
     "name": "stdout",
     "output_type": "stream",
     "text": [
      "---------Reading in the dataset: alltransactions.txt---------\n",
      "\n",
      "The number instances: 2107537\n",
      "\n",
      "The number of columns: 6\n",
      "\n",
      "The datatypes of features:\n",
      "order_number     int64\n",
      "l1              object\n",
      "l2              object\n",
      "l3              object\n",
      "sku              int64\n",
      "brand            int64\n",
      "dtype: object\n"
     ]
    }
   ],
   "source": [
    "%cd -q /mnt/c/projects/ecorp-recommendations/data\n",
    "trans_all = read_dataset('alltransactions', file_type='txt', sep='\\t')"
   ]
  },
  {
   "cell_type": "code",
   "execution_count": null,
   "metadata": {},
   "outputs": [],
   "source": []
  }
 ],
 "metadata": {
  "kernelspec": {
   "display_name": "Python 3",
   "language": "python",
   "name": "python3"
  },
  "language_info": {
   "codemirror_mode": {
    "name": "ipython",
    "version": 3
   },
   "file_extension": ".py",
   "mimetype": "text/x-python",
   "name": "python",
   "nbconvert_exporter": "python",
   "pygments_lexer": "ipython3",
   "version": "3.6.8"
  }
 },
 "nbformat": 4,
 "nbformat_minor": 2
}
