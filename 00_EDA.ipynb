{
 "cells": [
  {
   "cell_type": "code",
   "execution_count": 1,
   "metadata": {},
   "outputs": [],
   "source": [
    "import pandas as pd\n",
    "\n",
    "%cd -q /mnt/c/projects/ecorp-recommendations/src\n",
    "from helpers import read_dataset\n",
    "from helpersEDA import quick_observation, unique_values"
   ]
  },
  {
   "cell_type": "code",
   "execution_count": 2,
   "metadata": {},
   "outputs": [
    {
     "name": "stdout",
     "output_type": "stream",
     "text": [
      "---------Reading in the dataset: alltransactions.txt---------\n",
      "\n",
      "The number instances: 2107537\n",
      "\n",
      "The number of columns: 6\n",
      "\n",
      "The datatypes of features:\n",
      "order_number     int64\n",
      "l1              object\n",
      "l2              object\n",
      "l3              object\n",
      "sku              int64\n",
      "brand            int64\n",
      "dtype: object\n"
     ]
    }
   ],
   "source": [
    "%cd -q /mnt/c/projects/ecorp-recommendations/data\n",
    "trans_all = read_dataset('alltransactions', file_type='txt', sep='\\t')"
   ]
  },
  {
   "cell_type": "code",
   "execution_count": 3,
   "metadata": {},
   "outputs": [
    {
     "name": "stdout",
     "output_type": "stream",
     "text": [
      "------The first 5 rows:\n",
      "   order_number                                      l1  \\\n",
      "0        168266                             Power Tools   \n",
      "1        123986                                  Safety   \n",
      "2        158978                                Hardware   \n",
      "3        449035  Electronics, Appliances, and Batteries   \n",
      "4        781232                                  Motors   \n",
      "\n",
      "                           l2                         l3     sku  brand  \n",
      "0  Power Saws and Accessories   Reciprocating Saw Blades  265105   2768  \n",
      "1      Spill Control Supplies      Temporary Leak Repair  215839    586  \n",
      "2               Door Hardware                 Thresholds  284756   1793  \n",
      "3                   Batteries         Standard Batteries   12579   1231  \n",
      "4   General Purpose AC Motors  General Purpose AC Motors  194681   2603  \n",
      "\n",
      "------The number of duplicates: 52070\n"
     ]
    }
   ],
   "source": [
    "# so look at quick observation of dataframe, and any duplicated rows\n",
    "\n",
    "quick_observation(trans_all, subset=None)  "
   ]
  },
  {
   "cell_type": "code",
   "execution_count": 4,
   "metadata": {},
   "outputs": [
    {
     "name": "stdout",
     "output_type": "stream",
     "text": [
      "order_number: 801575 --- unique values\n"
     ]
    }
   ],
   "source": [
    "# check how many different orders we have\n",
    "\n",
    "unique_values(trans_all, 'order_number')"
   ]
  },
  {
   "cell_type": "code",
   "execution_count": null,
   "metadata": {},
   "outputs": [],
   "source": []
  }
 ],
 "metadata": {
  "kernelspec": {
   "display_name": "Python 3",
   "language": "python",
   "name": "python3"
  },
  "language_info": {
   "codemirror_mode": {
    "name": "ipython",
    "version": 3
   },
   "file_extension": ".py",
   "mimetype": "text/x-python",
   "name": "python",
   "nbconvert_exporter": "python",
   "pygments_lexer": "ipython3",
   "version": "3.6.8"
  }
 },
 "nbformat": 4,
 "nbformat_minor": 2
}
