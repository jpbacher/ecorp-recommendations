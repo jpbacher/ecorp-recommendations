{
 "cells": [
  {
   "cell_type": "code",
   "execution_count": 1,
   "metadata": {},
   "outputs": [],
   "source": [
    "import pandas as pd\n",
    "\n",
    "%cd -q /mnt/c/projects/ecorp-recommendations/src\n",
    "from helpers import read_dataset\n",
    "from helpersEDA import quick_observation, missing_df, unique_values"
   ]
  },
  {
   "cell_type": "code",
   "execution_count": 2,
   "metadata": {},
   "outputs": [
    {
     "name": "stdout",
     "output_type": "stream",
     "text": [
      "--------- Reading in the dataset: alltransactions.txt ---------\n",
      "\n",
      "The number instances: 2107537\n",
      "The number of columns: 6\n",
      "\n",
      "The datatypes of features:\n",
      "order_number     int64\n",
      "l1              object\n",
      "l2              object\n",
      "l3              object\n",
      "sku              int64\n",
      "brand            int64\n",
      "dtype: object\n"
     ]
    }
   ],
   "source": [
    "%cd -q /mnt/c/projects/ecorp-recommendations/data\n",
    "trans_all = read_dataset('alltransactions.txt', file_type='tsv')"
   ]
  },
  {
   "cell_type": "code",
   "execution_count": 3,
   "metadata": {},
   "outputs": [
    {
     "name": "stdout",
     "output_type": "stream",
     "text": [
      "------The first 5 rows:\n",
      "   order_number                                      l1  \\\n",
      "0        168266                             Power Tools   \n",
      "1        123986                                  Safety   \n",
      "2        158978                                Hardware   \n",
      "3        449035  Electronics, Appliances, and Batteries   \n",
      "4        781232                                  Motors   \n",
      "\n",
      "                           l2                         l3     sku  brand  \n",
      "0  Power Saws and Accessories   Reciprocating Saw Blades  265105   2768  \n",
      "1      Spill Control Supplies      Temporary Leak Repair  215839    586  \n",
      "2               Door Hardware                 Thresholds  284756   1793  \n",
      "3                   Batteries         Standard Batteries   12579   1231  \n",
      "4   General Purpose AC Motors  General Purpose AC Motors  194681   2603  \n",
      "\n",
      "------The number of duplicates: 52070\n"
     ]
    }
   ],
   "source": [
    "# look at quick observation of dataframe, and any duplicated rows\n",
    "quick_observation(trans_all, subset=None)  "
   ]
  },
  {
   "cell_type": "code",
   "execution_count": 4,
   "metadata": {},
   "outputs": [
    {
     "name": "stdout",
     "output_type": "stream",
     "text": [
      "The dataset does not contain any missing values\n"
     ]
    }
   ],
   "source": [
    "# note l3 is the most speciic, l1 the most general\n",
    "# need to remove duplicates when we process data for rec engine\n",
    "\n",
    "# check to see if there are any missing values\n",
    "missing_df(trans_all, 0)"
   ]
  },
  {
   "cell_type": "code",
   "execution_count": 5,
   "metadata": {},
   "outputs": [
    {
     "name": "stdout",
     "output_type": "stream",
     "text": [
      "order_number: 801575 --- unique values\n",
      "l1: 33 --- unique values\n",
      "l2: 593 --- unique values\n",
      "l3: 6203 --- unique values\n",
      "sku: 275958 --- unique values\n",
      "brand: 4574 --- unique values\n"
     ]
    }
   ],
   "source": [
    "# check how many different orders in this dataset, along w/ unique values from other features\n",
    "for col in trans_all.columns:\n",
    "    unique_values(trans_all, col)"
   ]
  },
  {
   "cell_type": "code",
   "execution_count": 6,
   "metadata": {},
   "outputs": [
    {
     "data": {
      "text/plain": [
       "sku     l3                   l1                                    \n",
       "282471  Standard Batteries   Electronics, Appliances, and Batteries    9234\n",
       "282473  Standard Batteries   Electronics, Appliances, and Batteries    7408\n",
       "154210  Socks                Safety                                    5721\n",
       "184171  Paper Towels, Rolls  Cleaning                                  4965\n",
       "282469  Standard Batteries   Electronics, Appliances, and Batteries    4210\n",
       "124761  Pleated Air Filters  HVAC and Refrigeration                    3261\n",
       "124763  Pleated Air Filters  HVAC and Refrigeration                    3169\n",
       "46844   Toilet Paper         Cleaning                                  2955\n",
       "124762  Pleated Air Filters  HVAC and Refrigeration                    2933\n",
       "282470  Standard Batteries   Electronics, Appliances, and Batteries    2831\n",
       "Name: order_number, dtype: int64"
      ]
     },
     "execution_count": 6,
     "metadata": {},
     "output_type": "execute_result"
    }
   ],
   "source": [
    "# determine top 10 most popular items, & what 'general' category they are in (l1)\n",
    "trans_all.groupby(['sku', 'l3', 'l1'])[\n",
    "    'order_number'].count().sort_values(ascending=False)[:10]"
   ]
  },
  {
   "cell_type": "code",
   "execution_count": 7,
   "metadata": {},
   "outputs": [
    {
     "data": {
      "text/plain": [
       "2.629244924055765"
      ]
     },
     "execution_count": 7,
     "metadata": {},
     "output_type": "execute_result"
    }
   ],
   "source": [
    "# look at the avg basket size\n",
    "\n",
    "trans_all.groupby('order_number')['sku'].count().mean()"
   ]
  },
  {
   "cell_type": "code",
   "execution_count": 8,
   "metadata": {},
   "outputs": [],
   "source": [
    "# when we build rec engine, consider orders that have at least 2 items\n",
    "\n"
   ]
  }
 ],
 "metadata": {
  "kernelspec": {
   "display_name": "Python 3",
   "language": "python",
   "name": "python3"
  },
  "language_info": {
   "codemirror_mode": {
    "name": "ipython",
    "version": 3
   },
   "file_extension": ".py",
   "mimetype": "text/x-python",
   "name": "python",
   "nbconvert_exporter": "python",
   "pygments_lexer": "ipython3",
   "version": "3.6.8"
  }
 },
 "nbformat": 4,
 "nbformat_minor": 2
}
